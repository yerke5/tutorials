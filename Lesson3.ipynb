{
 "cells": [
  {
   "cell_type": "code",
   "execution_count": null,
   "metadata": {},
   "outputs": [],
   "source": [
    "# LESSON AGENDA\n",
    "# This tutorial is on implementing sorting algorithms in Python\n",
    "# We will cover 5 algorithms (sorted in ascending order of difficulty, except the last one):\n",
    "# 1. bubble sort\n",
    "# 2. insertion sort\n",
    "# 3. selection sort\n",
    "# 4. merge sort\n",
    "# 5. quick sort\n",
    "# (optional, subject to time availability) 6. counting sort\n",
    "\n",
    "# we will explain each algorithm verbally and provide pseudocode for #1, #4 and #5 (+ #6)\n",
    "# to help you get a firmer grasp of how simpler sorting algoritms work,\n",
    "# we will ask you to implement the first 3 algorithms on your own\n",
    "# for #1, you will have pseudocode to help you\n",
    "# for #2 and #3, you are highly encouraged to write them on your own\n",
    "# this way, you will understand how indices and array traversal works\n",
    "# please avoid consuting external resources for help \n",
    "# don't lie to yourself :)\n",
    "# ask the teacher for help if necessary\n",
    "# she will guide you to the right answer instead of revealing it right away\n",
    "\n",
    "# if you are interested in more advanced sorting algorithms, we can cover them in the next lessons\n",
    "# however, keep in mind that these algorithms depend on other data structures that you may not know\n",
    "# e.g. linked lists, heaps and binary trees\n",
    "# we will have to cover them first before we cover the algorithms\n",
    "# it's up to you to decide if you are interested, but the more data structures you know, the better"
   ]
  },
  {
   "cell_type": "code",
   "execution_count": null,
   "metadata": {},
   "outputs": [],
   "source": [
    "# 1. BUBBLE SORT\n",
    "# this is by far the simplest sorting algorithm\n",
    "# however, just because it is simple does not mean that it is efficient\n",
    "# in fact, bubble sort is one of the slowest sorting algorithms out there\n",
    "# you will be asked to guess the complexity of bubble sort a little later\n",
    "# you can see how there is a tradeoff between simplicity of implementation and efficiency\n",
    "# the most efficient algorithms are usually the hardest to read, write and understand\n",
    "# but we have to start somewhere :)\n",
    "\n",
    "# VERBAL DESCRIPTION\n",
    "# start at the first array element and compare it with the second element\n",
    "# if the first element is larger than the second, swap them\n",
    "# next, go to the second element and compare it to the third\n",
    "# thus, you should compare every consecutive pair of elements and swap those that are out of order\n",
    "# continue traversing the modified array until no more swaps are made\n",
    "# if there are no swaps, it means that you did not find any pairs that were out of order, so you can stop sorting\n",
    "\n",
    "# PSEUDOCODE\n",
    "# your first task is to convert this pseudocode for bubble sort into actual code\n",
    "# before you jump into writing code, please try to explain what each line does\n",
    "# and try to evaluate the algorithm's complexity\n",
    "# function bubbleSort(arr):\n",
    "#\ti = 0\n",
    "#\tswapped = True\n",
    "#\tn = arr.length\n",
    "#\twhile swapped:\n",
    "#\t\tswapped = False\n",
    "#\t\tfor i in [0 ... n - 2]: // both extremes are included\n",
    "#\t\t\tif arr[i] > arr[i + 1]:\n",
    "#\t\t\t\tswap arr[i] and arr[i + 1]\n",
    "#\t\t\t\tswapped = True"
   ]
  },
  {
   "cell_type": "code",
   "execution_count": null,
   "metadata": {},
   "outputs": [],
   "source": [
    "def swap(arr, i1, i2):\n",
    "    # you will need this function in your implementation of bubble sort\n",
    "    # how do you swap 2 array elements?\n",
    "    # YOUR CODE GOES HERE\n",
    "    pass\n",
    "    \n",
    "def bubble_sort(arr):\n",
    "    # IMPLEMENT ME!\n",
    "    # for each line, write an explanation of what it does and WHY it is necessary\n",
    "    # remember that when working with indices, the first step is to conside the extreme cases\n",
    "    # the rest will just fall in between\n",
    "    # e.g. what if the array is empty? what will happen when I get to the last element? will there be an index error?\n",
    "    pass"
   ]
  },
  {
   "cell_type": "code",
   "execution_count": null,
   "metadata": {},
   "outputs": [],
   "source": [
    "# test your function here\n",
    "import random\n",
    "x_orig = [random.randint(1, 100) for i in range(10)]\n",
    "print(\"Original x:\", x_orig)\n",
    "x_sorted = x_orig.copy()\n",
    "bubble_sort(x_sorted)\n",
    "print(\"Sorted x:\", x_sorted)\n",
    "print(\"The array is sorted correctly:\", sorted(x_orig) == x_sorted)"
   ]
  },
  {
   "cell_type": "code",
   "execution_count": 1,
   "metadata": {},
   "outputs": [],
   "source": [
    "# 2. INSERTION SORT\n",
    "# this time, you will only get a glimpse of the pseudocode\n",
    "# implement the insertion sort algorithm based on what you remember\n",
    "# don't try to focus on recalling the indices\n",
    "# think about the general procedure\n",
    "# just complete the missing pieces\n",
    "def insertion_sort(arr):\n",
    "    # YOUR CODE GOES HERE"
   ]
  },
  {
   "cell_type": "code",
   "execution_count": 4,
   "metadata": {},
   "outputs": [
    {
     "name": "stdout",
     "output_type": "stream",
     "text": [
      "Original x: [64, 67, 81, 17, 96]\n",
      "Key: 67\n",
      "arr before: [64, 67, 81, 17, 96]\n",
      "arr after: [64, 67, 81, 17, 96]\n",
      "Key: 81\n",
      "arr before: [64, 67, 81, 17, 96]\n",
      "arr after: [64, 67, 81, 17, 96]\n",
      "Key: 17\n",
      "arr before: [64, 67, 81, 17, 96]\n",
      "arr after: [17, 64, 67, 81, 96]\n",
      "Key: 96\n",
      "arr before: [17, 64, 67, 81, 96]\n",
      "arr after: [17, 64, 67, 81, 96]\n",
      "Sorted x: [17, 64, 67, 81, 96]\n",
      "The array is sorted correctly: True\n"
     ]
    }
   ],
   "source": [
    "# test your function here\n",
    "import random\n",
    "x_orig = [random.randint(1, 100) for i in range(5)]\n",
    "print(\"Original x:\", x_orig)\n",
    "x_sorted = x_orig.copy()\n",
    "insertion_sort(x_sorted)\n",
    "print(\"Sorted x:\", x_sorted)\n",
    "print(\"The array is sorted correctly:\", sorted(x_orig) == x_sorted)"
   ]
  },
  {
   "cell_type": "code",
   "execution_count": 5,
   "metadata": {},
   "outputs": [],
   "source": [
    "# 3. SELECTION SORT\n",
    "# here, you should also write the code on your own based on what you remember from the pseudocode\n",
    "def swap(arr, i1, i2):\n",
    "    # if you haven't yet, please implement the swapping of array elements here\n",
    "    # YOUR CODE GOES HERE\n",
    "\n",
    "def selection_sort(arr):\n",
    "    # YOUR CODE GOES HERE"
   ]
  },
  {
   "cell_type": "code",
   "execution_count": 6,
   "metadata": {},
   "outputs": [
    {
     "name": "stdout",
     "output_type": "stream",
     "text": [
      "Original x: [81, 30, 65, 56, 23]\n",
      "Current number: 81\n",
      "Current minimum: 23\n",
      "Current number: 30\n",
      "Current minimum: 30\n",
      "Current number: 65\n",
      "Current minimum: 56\n",
      "Current number: 65\n",
      "Current minimum: 65\n",
      "Sorted x: [23, 30, 56, 65, 81]\n",
      "The array is sorted correctly: True\n"
     ]
    }
   ],
   "source": [
    "x_orig = [random.randint(1, 100) for i in range(5)]\n",
    "print(\"Original x:\", x_orig)\n",
    "x_sorted = x_orig.copy()\n",
    "selection_sort(x_sorted)\n",
    "print(\"Sorted x:\", x_sorted)\n",
    "print(\"The array is sorted correctly:\", sorted(x_orig) == x_sorted)"
   ]
  },
  {
   "cell_type": "code",
   "execution_count": null,
   "metadata": {},
   "outputs": [],
   "source": [
    "# 4. MERGE SORT\n",
    "# Merge sort can be tricky to implement on your own because it is a recursion-based algorithm\n",
    "# so let's go over the code together.\n",
    "# Can you guess this algorithm's Big O complexity?\n",
    "def merge_sort(a, begin, end):\n",
    "    if begin >= end:\n",
    "        return # base case\n",
    "   \n",
    "    mid = int((begin + end) / 2)\n",
    "    \n",
    "    \n",
    "    # divide\n",
    "    merge_sort(a, begin, mid)\n",
    "    merge_sort(a, mid + 1, end)\n",
    "    \n",
    "    # conquer\n",
    "    merge(a, begin, mid, end)\n",
    "\n",
    "def merge(a, begin, mid, end):\n",
    "    print(\"Working on\", begin, \"to\", end)\n",
    "    \n",
    "    left = [0] * (mid - begin + 1) # this line hints at one of the main disadvantages of merge sort. What is it?\n",
    "    \n",
    "    # copy one half of the array slice into a temporary variable\n",
    "    for i in range(len(left)):\n",
    "        left[i] = a[begin + i]\n",
    "   \n",
    "    # i keeps track of where we are in the original array\n",
    "    # j1 is for the left \"half\"\n",
    "    # j2 is for the right \"half\" (depends on where mid is)\n",
    "    i = begin; j1 = 0; j2 = mid + 1\n",
    "    \n",
    "    # iterate over the 2 halves simultaneously until one of them is over\n",
    "    while j1 < len(left) and j2 <= end:\n",
    "        # take the lower number from each half and put into the original array\n",
    "        if left[j1] < a[j2]:\n",
    "            a[i] = left[j1] \n",
    "            # move on to the next element\n",
    "            j1 += 1\n",
    "        else:\n",
    "            a[i] = a[j2]\n",
    "            j2 += 1\n",
    "        \n",
    "        # update the index of the original array to make sure we don't replace elements that are already sorted\n",
    "        i += 1\n",
    "    \n",
    "    # there might be leftover elements in the left half, so copy it over to the original array\n",
    "    while j1 < len(left):\n",
    "        a[i] = left[j1]\n",
    "        i += 1\n",
    "        j1 += 1"
   ]
  },
  {
   "cell_type": "code",
   "execution_count": null,
   "metadata": {},
   "outputs": [],
   "source": [
    "# testing\n",
    "x_orig = [random.randint(1, 100) for i in range(10)]\n",
    "print(\"Original x:\", x_orig)\n",
    "x_sorted = x_orig.copy()\n",
    "merge_sort(x_sorted)\n",
    "print(\"Sorted x:\", x_sorted)\n",
    "print(\"The array is sorted correctly:\", sorted(x_orig) == x_sorted)"
   ]
  },
  {
   "cell_type": "code",
   "execution_count": null,
   "metadata": {},
   "outputs": [],
   "source": [
    "# 5. QUICK SORT\n",
    "def partition(array, begin, end):\n",
    "    pivot = begin\n",
    "    for i in range(begin + 1, end + 1):\n",
    "        if array[i] <= array[begin]:\n",
    "            pivot += 1\n",
    "            array[i], array[pivot] = array[pivot], array[i]\n",
    "    array[pivot], array[begin] = array[begin], array[pivot]\n",
    "    return pivot\n",
    "\n",
    "def quick_sort(array, begin=0, end=None):\n",
    "    if end is None:\n",
    "        end = len(array) - 1\n",
    "    def _quicksort(array, begin, end):\n",
    "        if begin >= end:\n",
    "            return\n",
    "        pivot = partition(array, begin, end)\n",
    "        _quicksort(array, begin, pivot-1)\n",
    "        _quicksort(array, pivot+1, end)\n",
    "    return _quicksort(array, begin, end)"
   ]
  },
  {
   "cell_type": "code",
   "execution_count": null,
   "metadata": {},
   "outputs": [],
   "source": [
    "x_orig = [random.randint(1, 100) for i in range(10)]\n",
    "print(\"Original x:\", x_orig)\n",
    "x_sorted = x_orig.copy()\n",
    "quick_sort(x_sorted)\n",
    "print(\"Sorted x:\", x_sorted)\n",
    "print(\"The array is sorted correctly:\", sorted(x_orig) == x_sorted)"
   ]
  },
  {
   "cell_type": "code",
   "execution_count": 7,
   "metadata": {},
   "outputs": [],
   "source": [
    "def counting_sort(arr, k):\n",
    "    n = len(arr)\n",
    "    counts = [0] * (k + 1)\n",
    "    output = [0] * n\n",
    "    \n",
    "    # count every element\n",
    "    for i in range(n):\n",
    "        counts[arr[i]] += 1\n",
    "    \n",
    "    # sum up all counts\n",
    "    for i in range(1, k + 1):\n",
    "        counts[i] += counts[i - 1]\n",
    "    \n",
    "    # populate the output with the right ordering of the indices\n",
    "    for i in range(n - 1, -1, -1):\n",
    "        output[counts[arr[i]] - 1] = arr[i]\n",
    "        counts[arr[i]] -= 1\n",
    "    \n",
    "    return output"
   ]
  },
  {
   "cell_type": "code",
   "execution_count": 9,
   "metadata": {},
   "outputs": [
    {
     "name": "stdout",
     "output_type": "stream",
     "text": [
      "Original x: [33, 9, 26, 36, 0, 86, 16, 15, 34, 73]\n",
      "Sorted x: [0, 9, 15, 16, 26, 33, 34, 36, 73, 86]\n",
      "The array is sorted correctly: True\n"
     ]
    }
   ],
   "source": [
    "import random\n",
    "k = 100\n",
    "x_orig = [random.randint(0, k) for i in range(10)]\n",
    "print(\"Original x:\", x_orig)\n",
    "x_sorted = counting_sort(x_orig, k)\n",
    "print(\"Sorted x:\", x_sorted)\n",
    "print(\"The array is sorted correctly:\", sorted(x_orig) == x_sorted)"
   ]
  },
  {
   "cell_type": "code",
   "execution_count": null,
   "metadata": {},
   "outputs": [],
   "source": [
    "# ANSWERS\n",
    "# 1. BUBBLE SORT\n",
    "def swap(arr, i1, i2):\n",
    "    # you will need this function in your implementation of bubble sort\n",
    "    # how do you swap 2 array elements?\n",
    "    # YOUR CODE GOES HERE\n",
    "    temp = arr[i1]\n",
    "    arr[i1] = arr[i2]\n",
    "    arr[i2] = temp\n",
    "    \n",
    "def bubble_sort(arr):\n",
    "    swapped = True\n",
    "    while swapped:\n",
    "        swapped = False\n",
    "        for i in range(len(arr) - 1):\n",
    "            if arr[i] > arr[i + 1]:\n",
    "                swap(arr, i, i + 1)\n",
    "                swapped = True"
   ]
  },
  {
   "cell_type": "code",
   "execution_count": null,
   "metadata": {},
   "outputs": [],
   "source": [
    "# 2. INSERTION SORT\n",
    "def insertion_sort(arr):\n",
    "    for j in range(1, len(arr)):\n",
    "        key = arr[j]\n",
    "        i = j - 1\n",
    "        while i >= 0 and arr[i] > key:\n",
    "            arr[i + 1] = arr[i]\n",
    "            i -= 1\n",
    "        arr[i + 1] = key"
   ]
  },
  {
   "cell_type": "code",
   "execution_count": null,
   "metadata": {},
   "outputs": [],
   "source": [
    "# 3. SELECTION SORT\n",
    "def selection_sort(arr):\n",
    "    for i in range(len(arr) - 1):\n",
    "        min = i\n",
    "        for j in range(i + 1, len(arr)):\n",
    "            if arr[j] < arr[min]:\n",
    "                min = j\n",
    "        if min != i:\n",
    "            swap(arr, min, i)"
   ]
  }
 ],
 "metadata": {
  "kernelspec": {
   "display_name": "Python 3",
   "language": "python",
   "name": "python3"
  },
  "language_info": {
   "codemirror_mode": {
    "name": "ipython",
    "version": 3
   },
   "file_extension": ".py",
   "mimetype": "text/x-python",
   "name": "python",
   "nbconvert_exporter": "python",
   "pygments_lexer": "ipython3",
   "version": "3.6.4"
  }
 },
 "nbformat": 4,
 "nbformat_minor": 2
}
